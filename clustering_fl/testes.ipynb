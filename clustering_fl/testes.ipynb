{
 "cells": [
  {
   "cell_type": "code",
   "execution_count": 20,
   "metadata": {},
   "outputs": [],
   "source": [
    "import pandas as pd\n",
    "import numpy as np\n",
    "import os"
   ]
  },
  {
   "cell_type": "code",
   "execution_count": 21,
   "metadata": {},
   "outputs": [
    {
     "data": {
      "text/plain": [
       "['CKA', '(', '1)', 'Affinity', 'POC', '0.5']"
      ]
     },
     "execution_count": 21,
     "metadata": {},
     "output_type": "execute_result"
    }
   ],
   "source": [
    "\"CKA-(-1)-Affinity-POC-0.5\".split('-')"
   ]
  },
  {
   "cell_type": "code",
   "execution_count": 22,
   "metadata": {},
   "outputs": [
    {
     "name": "stdout",
     "output_type": "stream",
     "text": [
      "/home/gabrieltalasso/Desktop/clustering_fl/local_logs/MotionSense/weights-(-2)-Affinity-All-0.5/train\n",
      "/home/gabrieltalasso/Desktop/clustering_fl/local_logs/MotionSense/weights-(-1)-Affinity-All-0.5/train\n",
      "/home/gabrieltalasso/Desktop/clustering_fl/local_logs/MotionSense/weights-(-1)-Affinity-All-0.5/train\n",
      "/home/gabrieltalasso/Desktop/clustering_fl/local_logs/MotionSense/weights-(1)-Affinity-All-0.5/train\n",
      "/home/gabrieltalasso/Desktop/clustering_fl/local_logs/MotionSense/weights-(1)-Affinity-Random-0.5/train\n",
      "/home/gabrieltalasso/Desktop/clustering_fl/local_logs/MotionSense/weights-(1)-Affinity-Random-0.5/train\n",
      "/home/gabrieltalasso/Desktop/clustering_fl/local_logs/MotionSense/weights-(-1)-Affinity-POC-0.5/train\n",
      "/home/gabrieltalasso/Desktop/clustering_fl/local_logs/MotionSense/CKA-(1)-Affinity-POC-0.5/train\n",
      "/home/gabrieltalasso/Desktop/clustering_fl/local_logs/MotionSense/CKA-(1)-Affinity-POC-0.5/train\n",
      "/home/gabrieltalasso/Desktop/clustering_fl/local_logs/MotionSense/weights-(-2)-Affinity-POC-0.5/train\n",
      "/home/gabrieltalasso/Desktop/clustering_fl/local_logs/MotionSense/weights-(1)-Affinity-POC-0.5/train\n",
      "/home/gabrieltalasso/Desktop/clustering_fl/local_logs/MotionSense/CKA-(-1)-Affinity-All-0.5/train\n",
      "/home/gabrieltalasso/Desktop/clustering_fl/local_logs/MotionSense/CKA-(-2)-Affinity-POC-0.5/train\n",
      "/home/gabrieltalasso/Desktop/clustering_fl/local_logs/MotionSense/CKA-(-2)-Affinity-POC-0.5/train\n"
     ]
    }
   ],
   "source": [
    "resps = []\n",
    "for f in [x[0] for x in os.walk('/home/gabrieltalasso/Desktop/clustering_fl/local_logs/MotionSense')]:\n",
    "    files = os.listdir(f)\n",
    "    if len(files)== 2:\n",
    "        for i in files:\n",
    "            resp = pd.read_csv(f+'/'+i)\n",
    "            c_resp = len(resp)\n",
    "            resps.append(c_resp)\n",
    "\n",
    "            if c_resp == 23:\n",
    "                print(f)"
   ]
  },
  {
   "cell_type": "code",
   "execution_count": 23,
   "metadata": {},
   "outputs": [
    {
     "data": {
      "text/plain": [
       "array([11, 11, 11, 11, 11, 11, 11, 11, 11, 11, 11, 11, 11, 11, 23, 23, 23,\n",
       "       23, 23, 23, 23, 23, 23, 23, 23, 23, 23, 23, 29, 29, 29, 29, 29, 29,\n",
       "       29, 29, 29, 29, 29, 29, 29, 29, 29, 29, 29, 29, 29, 32, 32, 35, 35,\n",
       "       35, 35, 38, 38, 38, 38, 38, 38, 38, 38, 38, 38, 38, 38, 38, 38, 38,\n",
       "       38, 38, 38, 38, 38, 38, 38, 38, 38, 38, 38, 38, 41, 41, 41, 41, 41,\n",
       "       41, 41, 41, 41, 41, 41, 41, 41, 41, 41, 41, 41, 41, 41, 41, 41, 41,\n",
       "       41, 41, 41, 44, 44, 44, 44, 44, 44, 44, 44, 44, 47, 59, 59, 59, 59,\n",
       "       59, 59, 59, 59, 59, 59, 59, 59, 59, 59, 59, 59, 59, 59, 59, 59, 59,\n",
       "       59, 59, 59, 59, 59, 59, 59, 59, 59, 59, 59, 59, 59, 59, 59, 59, 59,\n",
       "       59, 59, 59, 59, 59, 59, 59, 59, 59, 59, 59, 59, 59, 59, 59, 59, 59,\n",
       "       59, 59, 59, 59, 59, 59, 59, 59, 59, 59, 59, 59, 59, 59, 59, 59, 59,\n",
       "       59, 59, 59, 59, 59, 59, 59, 59, 59, 59, 59, 59, 59, 59, 59, 59, 59,\n",
       "       59, 59, 59, 59, 59, 59, 59, 59, 59, 59, 59, 59, 59, 59, 59, 59, 59,\n",
       "       59, 59, 59, 59, 59, 59, 59, 59, 59, 59, 59, 59, 59, 59, 59, 59, 59,\n",
       "       59, 59, 59, 59, 59, 59, 59, 59, 59, 59, 59, 59, 59, 59, 59, 59, 59,\n",
       "       59, 59, 59, 59, 59, 59, 59, 59, 59, 59, 59, 59, 59, 59, 59, 59, 59,\n",
       "       59, 59, 59, 59, 59, 59, 59, 59, 59, 59, 59, 59, 59, 59, 59, 59])"
      ]
     },
     "execution_count": 23,
     "metadata": {},
     "output_type": "execute_result"
    }
   ],
   "source": [
    "np.array(sorted(resps))"
   ]
  },
  {
   "cell_type": "code",
   "execution_count": null,
   "metadata": {},
   "outputs": [],
   "source": []
  }
 ],
 "metadata": {
  "kernelspec": {
   "display_name": "Python 3",
   "language": "python",
   "name": "python3"
  },
  "language_info": {
   "codemirror_mode": {
    "name": "ipython",
    "version": 3
   },
   "file_extension": ".py",
   "mimetype": "text/x-python",
   "name": "python",
   "nbconvert_exporter": "python",
   "pygments_lexer": "ipython3",
   "version": "3.8.10"
  },
  "orig_nbformat": 4
 },
 "nbformat": 4,
 "nbformat_minor": 2
}
