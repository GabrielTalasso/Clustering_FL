{
 "cells": [
  {
   "cell_type": "code",
   "execution_count": 2,
   "metadata": {},
   "outputs": [],
   "source": [
    "import pandas as pd\n",
    "import numpy as np\n",
    "import os"
   ]
  },
  {
   "cell_type": "code",
   "execution_count": 21,
   "metadata": {},
   "outputs": [
    {
     "data": {
      "text/plain": [
       "['CKA', '(', '1)', 'Affinity', 'POC', '0.5']"
      ]
     },
     "execution_count": 21,
     "metadata": {},
     "output_type": "execute_result"
    }
   ],
   "source": [
    "\"CKA-(-1)-Affinity-POC-0.5\".split('-')"
   ]
  },
  {
   "cell_type": "code",
   "execution_count": 22,
   "metadata": {},
   "outputs": [
    {
     "name": "stdout",
     "output_type": "stream",
     "text": [
      "/home/gabrieltalasso/Desktop/clustering_fl/local_logs/MotionSense/weights-(-2)-Affinity-All-0.5/train\n",
      "/home/gabrieltalasso/Desktop/clustering_fl/local_logs/MotionSense/weights-(-1)-Affinity-All-0.5/train\n",
      "/home/gabrieltalasso/Desktop/clustering_fl/local_logs/MotionSense/weights-(-1)-Affinity-All-0.5/train\n",
      "/home/gabrieltalasso/Desktop/clustering_fl/local_logs/MotionSense/weights-(1)-Affinity-All-0.5/train\n",
      "/home/gabrieltalasso/Desktop/clustering_fl/local_logs/MotionSense/weights-(1)-Affinity-Random-0.5/train\n",
      "/home/gabrieltalasso/Desktop/clustering_fl/local_logs/MotionSense/weights-(1)-Affinity-Random-0.5/train\n",
      "/home/gabrieltalasso/Desktop/clustering_fl/local_logs/MotionSense/weights-(-1)-Affinity-POC-0.5/train\n",
      "/home/gabrieltalasso/Desktop/clustering_fl/local_logs/MotionSense/CKA-(1)-Affinity-POC-0.5/train\n",
      "/home/gabrieltalasso/Desktop/clustering_fl/local_logs/MotionSense/CKA-(1)-Affinity-POC-0.5/train\n",
      "/home/gabrieltalasso/Desktop/clustering_fl/local_logs/MotionSense/weights-(-2)-Affinity-POC-0.5/train\n",
      "/home/gabrieltalasso/Desktop/clustering_fl/local_logs/MotionSense/weights-(1)-Affinity-POC-0.5/train\n",
      "/home/gabrieltalasso/Desktop/clustering_fl/local_logs/MotionSense/CKA-(-1)-Affinity-All-0.5/train\n",
      "/home/gabrieltalasso/Desktop/clustering_fl/local_logs/MotionSense/CKA-(-2)-Affinity-POC-0.5/train\n",
      "/home/gabrieltalasso/Desktop/clustering_fl/local_logs/MotionSense/CKA-(-2)-Affinity-POC-0.5/train\n"
     ]
    }
   ],
   "source": [
    "resps = []\n",
    "for f in [x[0] for x in os.walk('/home/gabrieltalasso/Desktop/clustering_fl/local_logs/MotionSense')]:\n",
    "    files = os.listdir(f)\n",
    "    if len(files)== 2:\n",
    "        for i in files:\n",
    "            resp = pd.read_csv(f+'/'+i)\n",
    "            c_resp = len(resp)\n",
    "            resps.append(c_resp)\n",
    "\n",
    "            if c_resp == 23:\n",
    "                print(f)"
   ]
  },
  {
   "cell_type": "code",
   "execution_count": 23,
   "metadata": {},
   "outputs": [
    {
     "data": {
      "text/plain": [
       "array([11, 11, 11, 11, 11, 11, 11, 11, 11, 11, 11, 11, 11, 11, 23, 23, 23,\n",
       "       23, 23, 23, 23, 23, 23, 23, 23, 23, 23, 23, 29, 29, 29, 29, 29, 29,\n",
       "       29, 29, 29, 29, 29, 29, 29, 29, 29, 29, 29, 29, 29, 32, 32, 35, 35,\n",
       "       35, 35, 38, 38, 38, 38, 38, 38, 38, 38, 38, 38, 38, 38, 38, 38, 38,\n",
       "       38, 38, 38, 38, 38, 38, 38, 38, 38, 38, 38, 38, 41, 41, 41, 41, 41,\n",
       "       41, 41, 41, 41, 41, 41, 41, 41, 41, 41, 41, 41, 41, 41, 41, 41, 41,\n",
       "       41, 41, 41, 44, 44, 44, 44, 44, 44, 44, 44, 44, 47, 59, 59, 59, 59,\n",
       "       59, 59, 59, 59, 59, 59, 59, 59, 59, 59, 59, 59, 59, 59, 59, 59, 59,\n",
       "       59, 59, 59, 59, 59, 59, 59, 59, 59, 59, 59, 59, 59, 59, 59, 59, 59,\n",
       "       59, 59, 59, 59, 59, 59, 59, 59, 59, 59, 59, 59, 59, 59, 59, 59, 59,\n",
       "       59, 59, 59, 59, 59, 59, 59, 59, 59, 59, 59, 59, 59, 59, 59, 59, 59,\n",
       "       59, 59, 59, 59, 59, 59, 59, 59, 59, 59, 59, 59, 59, 59, 59, 59, 59,\n",
       "       59, 59, 59, 59, 59, 59, 59, 59, 59, 59, 59, 59, 59, 59, 59, 59, 59,\n",
       "       59, 59, 59, 59, 59, 59, 59, 59, 59, 59, 59, 59, 59, 59, 59, 59, 59,\n",
       "       59, 59, 59, 59, 59, 59, 59, 59, 59, 59, 59, 59, 59, 59, 59, 59, 59,\n",
       "       59, 59, 59, 59, 59, 59, 59, 59, 59, 59, 59, 59, 59, 59, 59, 59, 59,\n",
       "       59, 59, 59, 59, 59, 59, 59, 59, 59, 59, 59, 59, 59, 59, 59, 59])"
      ]
     },
     "execution_count": 23,
     "metadata": {},
     "output_type": "execute_result"
    }
   ],
   "source": [
    "np.array(sorted(resps))"
   ]
  },
  {
   "cell_type": "code",
   "execution_count": 5,
   "metadata": {},
   "outputs": [
    {
     "data": {
      "text/plain": [
       "2280     4\n",
       "2281    13\n",
       "2282    23\n",
       "2283     3\n",
       "2284    11\n",
       "2285    19\n",
       "2286     5\n",
       "2287     9\n",
       "2288    12\n",
       "2289     1\n",
       "2290    14\n",
       "2291     8\n",
       "2292    20\n",
       "2293     7\n",
       "2294     6\n",
       "2295    17\n",
       "2296    10\n",
       "2297    16\n",
       "2298    18\n",
       "2299    22\n",
       "2300    15\n",
       "2301     0\n",
       "Name: client, dtype: int64"
      ]
     },
     "execution_count": 5,
     "metadata": {},
     "output_type": "execute_result"
    }
   ],
   "source": [
    "n_clusters = 10\n",
    "selection = 'Random'\n",
    "method = 'HC'\n",
    "\n",
    "\n",
    "p = f'local_logs/MotionSense/CKA-(-1)-{method}-{selection}-0.5/evaluate/acc_24clients_{n_clusters}clusters.csv'\n",
    "acc =  pd.read_csv(p , names=['rounds', 'client', 'acc', 'loss'], sep=',',  on_bad_lines='skip')\n",
    "acc[acc['rounds'] == 96]['client']\n"
   ]
  },
  {
   "cell_type": "code",
   "execution_count": 1,
   "metadata": {},
   "outputs": [
    {
     "data": {
      "text/plain": [
       "2"
      ]
     },
     "execution_count": 1,
     "metadata": {},
     "output_type": "execute_result"
    }
   ],
   "source": [
    "l = [1,1,0,0,1,1,1]\n",
    "l.index(0)"
   ]
  }
 ],
 "metadata": {
  "kernelspec": {
   "display_name": "Python 3",
   "language": "python",
   "name": "python3"
  },
  "language_info": {
   "codemirror_mode": {
    "name": "ipython",
    "version": 3
   },
   "file_extension": ".py",
   "mimetype": "text/x-python",
   "name": "python",
   "nbconvert_exporter": "python",
   "pygments_lexer": "ipython3",
   "version": "3.8.10"
  },
  "orig_nbformat": 4
 },
 "nbformat": 4,
 "nbformat_minor": 2
}
